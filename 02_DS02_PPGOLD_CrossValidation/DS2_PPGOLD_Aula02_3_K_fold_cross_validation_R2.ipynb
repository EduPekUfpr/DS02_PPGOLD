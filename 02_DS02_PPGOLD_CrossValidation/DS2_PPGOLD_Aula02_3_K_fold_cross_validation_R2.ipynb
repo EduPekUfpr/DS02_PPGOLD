{
 "cells": [
  {
   "cell_type": "markdown",
   "metadata": {},
   "source": [
    "<p style =\"text-align:center\">\n",
    "    <img src=\"http://epecora.com.br/DataFiles/PPGOLD_logo.png\" width=\"300\" alt=\"PPGOLD Data Science: INTRO\"  />\n",
    "</p>\n",
    "\n",
    "# Data Science 02 - Aula 02"
   ]
  },
  {
   "cell_type": "markdown",
   "metadata": {},
   "source": [
    "# Cross Validation\n",
    "Tempo estimado: **30** minutos"
   ]
  },
  {
   "cell_type": "markdown",
   "metadata": {},
   "source": [
    "## Objetivos"
   ]
  },
  {
   "cell_type": "markdown",
   "metadata": {},
   "source": [
    "Após completar esta aula, você será capaz de:\n",
    "\n",
    "* Separar os dados em dados de treino e teste\n",
    "* Usar o cross validation para avaliar a eficiência do modelo"
   ]
  },
  {
   "cell_type": "markdown",
   "metadata": {},
   "source": [
    "## Bibliotecas"
   ]
  },
  {
   "cell_type": "code",
   "execution_count": 59,
   "metadata": {},
   "outputs": [],
   "source": [
    "# importando a biblioteca pandas para manipulação de dados\n",
    "import pandas as pd\n",
    "\n",
    "# importando as bibliotecas do matplotlib para gerar gráficos\n",
    "import matplotlib as mpl\n",
    "import matplotlib.pyplot as plt\n",
    "\n",
    "# Importando a biblioteca numpy e math que fornece funções matemáticas básicas\n",
    "import numpy as np\n",
    "import math \n",
    "\n",
    "# Importando biblioteca do seaborn para gerar gráficos mais atraentes e informativos\n",
    "import seaborn as sns\n",
    "\n",
    "# Importando a classe LinearRegression do sklearn \n",
    "# Essa classe implementa uma versão da regressão linear simples ou múltipla\n",
    "# Usado para modelar a relação entre uma variável dependente contínua e uma ou mais variáveis independentes.\n",
    "from sklearn.linear_model import LinearRegression\n",
    "from sklearn.metrics import mean_absolute_error, mean_squared_error, r2_score\n",
    "from sklearn.model_selection import KFold\n",
    "\n",
    "# Usado para exibir os gráficos gerados pela biblioteca Matplotlib diretamente no notebook, sem precisar abrir uma janela externa.\n",
    "%matplotlib inline\n"
   ]
  },
  {
   "cell_type": "markdown",
   "metadata": {},
   "source": [
    "## Obtendo dados"
   ]
  },
  {
   "cell_type": "code",
   "execution_count": 60,
   "metadata": {},
   "outputs": [],
   "source": [
    "caminho = \"\" \n",
    "\n",
    "# Caminho do arquivo csv\n",
    "caminho = \"https://raw.githubusercontent.com/EduPekUfpr/DS02_PPGOLD/main/Data/MeuAutoLimpo.csv\" \n",
    "\n",
    "#Obtendo arquivo e passando-o para um dataframe\n",
    "df = pd.read_csv(caminho) "
   ]
  },
  {
   "cell_type": "markdown",
   "metadata": {},
   "source": [
    "## Tranformação das variáveis"
   ]
  },
  {
   "cell_type": "code",
   "execution_count": 61,
   "metadata": {},
   "outputs": [
    {
     "name": "stderr",
     "output_type": "stream",
     "text": [
      "/var/folders/fr/1byq_zn551q9hcfd9_hhlv5h0000gn/T/ipykernel_43757/3536431425.py:6: PerformanceWarning: DataFrame is highly fragmented.  This is usually the result of calling `frame.insert` many times, which has poor performance.  Consider joining all columns at once using pd.concat(axis=1) instead. To get a de-fragmented frame, use `newframe = frame.copy()`\n",
      "  df_dummy[col_name] = np.random.randint(1, 100, size=len(df))\n",
      "/var/folders/fr/1byq_zn551q9hcfd9_hhlv5h0000gn/T/ipykernel_43757/3536431425.py:6: PerformanceWarning: DataFrame is highly fragmented.  This is usually the result of calling `frame.insert` many times, which has poor performance.  Consider joining all columns at once using pd.concat(axis=1) instead. To get a de-fragmented frame, use `newframe = frame.copy()`\n",
      "  df_dummy[col_name] = np.random.randint(1, 100, size=len(df))\n",
      "/var/folders/fr/1byq_zn551q9hcfd9_hhlv5h0000gn/T/ipykernel_43757/3536431425.py:6: PerformanceWarning: DataFrame is highly fragmented.  This is usually the result of calling `frame.insert` many times, which has poor performance.  Consider joining all columns at once using pd.concat(axis=1) instead. To get a de-fragmented frame, use `newframe = frame.copy()`\n",
      "  df_dummy[col_name] = np.random.randint(1, 100, size=len(df))\n",
      "/var/folders/fr/1byq_zn551q9hcfd9_hhlv5h0000gn/T/ipykernel_43757/3536431425.py:6: PerformanceWarning: DataFrame is highly fragmented.  This is usually the result of calling `frame.insert` many times, which has poor performance.  Consider joining all columns at once using pd.concat(axis=1) instead. To get a de-fragmented frame, use `newframe = frame.copy()`\n",
      "  df_dummy[col_name] = np.random.randint(1, 100, size=len(df))\n",
      "/var/folders/fr/1byq_zn551q9hcfd9_hhlv5h0000gn/T/ipykernel_43757/3536431425.py:6: PerformanceWarning: DataFrame is highly fragmented.  This is usually the result of calling `frame.insert` many times, which has poor performance.  Consider joining all columns at once using pd.concat(axis=1) instead. To get a de-fragmented frame, use `newframe = frame.copy()`\n",
      "  df_dummy[col_name] = np.random.randint(1, 100, size=len(df))\n",
      "/var/folders/fr/1byq_zn551q9hcfd9_hhlv5h0000gn/T/ipykernel_43757/3536431425.py:6: PerformanceWarning: DataFrame is highly fragmented.  This is usually the result of calling `frame.insert` many times, which has poor performance.  Consider joining all columns at once using pd.concat(axis=1) instead. To get a de-fragmented frame, use `newframe = frame.copy()`\n",
      "  df_dummy[col_name] = np.random.randint(1, 100, size=len(df))\n",
      "/var/folders/fr/1byq_zn551q9hcfd9_hhlv5h0000gn/T/ipykernel_43757/3536431425.py:6: PerformanceWarning: DataFrame is highly fragmented.  This is usually the result of calling `frame.insert` many times, which has poor performance.  Consider joining all columns at once using pd.concat(axis=1) instead. To get a de-fragmented frame, use `newframe = frame.copy()`\n",
      "  df_dummy[col_name] = np.random.randint(1, 100, size=len(df))\n",
      "/var/folders/fr/1byq_zn551q9hcfd9_hhlv5h0000gn/T/ipykernel_43757/3536431425.py:6: PerformanceWarning: DataFrame is highly fragmented.  This is usually the result of calling `frame.insert` many times, which has poor performance.  Consider joining all columns at once using pd.concat(axis=1) instead. To get a de-fragmented frame, use `newframe = frame.copy()`\n",
      "  df_dummy[col_name] = np.random.randint(1, 100, size=len(df))\n",
      "/var/folders/fr/1byq_zn551q9hcfd9_hhlv5h0000gn/T/ipykernel_43757/3536431425.py:6: PerformanceWarning: DataFrame is highly fragmented.  This is usually the result of calling `frame.insert` many times, which has poor performance.  Consider joining all columns at once using pd.concat(axis=1) instead. To get a de-fragmented frame, use `newframe = frame.copy()`\n",
      "  df_dummy[col_name] = np.random.randint(1, 100, size=len(df))\n",
      "/var/folders/fr/1byq_zn551q9hcfd9_hhlv5h0000gn/T/ipykernel_43757/3536431425.py:6: PerformanceWarning: DataFrame is highly fragmented.  This is usually the result of calling `frame.insert` many times, which has poor performance.  Consider joining all columns at once using pd.concat(axis=1) instead. To get a de-fragmented frame, use `newframe = frame.copy()`\n",
      "  df_dummy[col_name] = np.random.randint(1, 100, size=len(df))\n",
      "/var/folders/fr/1byq_zn551q9hcfd9_hhlv5h0000gn/T/ipykernel_43757/3536431425.py:6: PerformanceWarning: DataFrame is highly fragmented.  This is usually the result of calling `frame.insert` many times, which has poor performance.  Consider joining all columns at once using pd.concat(axis=1) instead. To get a de-fragmented frame, use `newframe = frame.copy()`\n",
      "  df_dummy[col_name] = np.random.randint(1, 100, size=len(df))\n",
      "/var/folders/fr/1byq_zn551q9hcfd9_hhlv5h0000gn/T/ipykernel_43757/3536431425.py:6: PerformanceWarning: DataFrame is highly fragmented.  This is usually the result of calling `frame.insert` many times, which has poor performance.  Consider joining all columns at once using pd.concat(axis=1) instead. To get a de-fragmented frame, use `newframe = frame.copy()`\n",
      "  df_dummy[col_name] = np.random.randint(1, 100, size=len(df))\n",
      "/var/folders/fr/1byq_zn551q9hcfd9_hhlv5h0000gn/T/ipykernel_43757/3536431425.py:6: PerformanceWarning: DataFrame is highly fragmented.  This is usually the result of calling `frame.insert` many times, which has poor performance.  Consider joining all columns at once using pd.concat(axis=1) instead. To get a de-fragmented frame, use `newframe = frame.copy()`\n",
      "  df_dummy[col_name] = np.random.randint(1, 100, size=len(df))\n",
      "/var/folders/fr/1byq_zn551q9hcfd9_hhlv5h0000gn/T/ipykernel_43757/3536431425.py:6: PerformanceWarning: DataFrame is highly fragmented.  This is usually the result of calling `frame.insert` many times, which has poor performance.  Consider joining all columns at once using pd.concat(axis=1) instead. To get a de-fragmented frame, use `newframe = frame.copy()`\n",
      "  df_dummy[col_name] = np.random.randint(1, 100, size=len(df))\n",
      "/var/folders/fr/1byq_zn551q9hcfd9_hhlv5h0000gn/T/ipykernel_43757/3536431425.py:6: PerformanceWarning: DataFrame is highly fragmented.  This is usually the result of calling `frame.insert` many times, which has poor performance.  Consider joining all columns at once using pd.concat(axis=1) instead. To get a de-fragmented frame, use `newframe = frame.copy()`\n",
      "  df_dummy[col_name] = np.random.randint(1, 100, size=len(df))\n",
      "/var/folders/fr/1byq_zn551q9hcfd9_hhlv5h0000gn/T/ipykernel_43757/3536431425.py:6: PerformanceWarning: DataFrame is highly fragmented.  This is usually the result of calling `frame.insert` many times, which has poor performance.  Consider joining all columns at once using pd.concat(axis=1) instead. To get a de-fragmented frame, use `newframe = frame.copy()`\n",
      "  df_dummy[col_name] = np.random.randint(1, 100, size=len(df))\n",
      "/var/folders/fr/1byq_zn551q9hcfd9_hhlv5h0000gn/T/ipykernel_43757/3536431425.py:6: PerformanceWarning: DataFrame is highly fragmented.  This is usually the result of calling `frame.insert` many times, which has poor performance.  Consider joining all columns at once using pd.concat(axis=1) instead. To get a de-fragmented frame, use `newframe = frame.copy()`\n",
      "  df_dummy[col_name] = np.random.randint(1, 100, size=len(df))\n",
      "/var/folders/fr/1byq_zn551q9hcfd9_hhlv5h0000gn/T/ipykernel_43757/3536431425.py:6: PerformanceWarning: DataFrame is highly fragmented.  This is usually the result of calling `frame.insert` many times, which has poor performance.  Consider joining all columns at once using pd.concat(axis=1) instead. To get a de-fragmented frame, use `newframe = frame.copy()`\n",
      "  df_dummy[col_name] = np.random.randint(1, 100, size=len(df))\n",
      "/var/folders/fr/1byq_zn551q9hcfd9_hhlv5h0000gn/T/ipykernel_43757/3536431425.py:6: PerformanceWarning: DataFrame is highly fragmented.  This is usually the result of calling `frame.insert` many times, which has poor performance.  Consider joining all columns at once using pd.concat(axis=1) instead. To get a de-fragmented frame, use `newframe = frame.copy()`\n",
      "  df_dummy[col_name] = np.random.randint(1, 100, size=len(df))\n",
      "/var/folders/fr/1byq_zn551q9hcfd9_hhlv5h0000gn/T/ipykernel_43757/3536431425.py:6: PerformanceWarning: DataFrame is highly fragmented.  This is usually the result of calling `frame.insert` many times, which has poor performance.  Consider joining all columns at once using pd.concat(axis=1) instead. To get a de-fragmented frame, use `newframe = frame.copy()`\n",
      "  df_dummy[col_name] = np.random.randint(1, 100, size=len(df))\n",
      "/var/folders/fr/1byq_zn551q9hcfd9_hhlv5h0000gn/T/ipykernel_43757/3536431425.py:6: PerformanceWarning: DataFrame is highly fragmented.  This is usually the result of calling `frame.insert` many times, which has poor performance.  Consider joining all columns at once using pd.concat(axis=1) instead. To get a de-fragmented frame, use `newframe = frame.copy()`\n",
      "  df_dummy[col_name] = np.random.randint(1, 100, size=len(df))\n",
      "/var/folders/fr/1byq_zn551q9hcfd9_hhlv5h0000gn/T/ipykernel_43757/3536431425.py:6: PerformanceWarning: DataFrame is highly fragmented.  This is usually the result of calling `frame.insert` many times, which has poor performance.  Consider joining all columns at once using pd.concat(axis=1) instead. To get a de-fragmented frame, use `newframe = frame.copy()`\n",
      "  df_dummy[col_name] = np.random.randint(1, 100, size=len(df))\n",
      "/var/folders/fr/1byq_zn551q9hcfd9_hhlv5h0000gn/T/ipykernel_43757/3536431425.py:6: PerformanceWarning: DataFrame is highly fragmented.  This is usually the result of calling `frame.insert` many times, which has poor performance.  Consider joining all columns at once using pd.concat(axis=1) instead. To get a de-fragmented frame, use `newframe = frame.copy()`\n",
      "  df_dummy[col_name] = np.random.randint(1, 100, size=len(df))\n",
      "/var/folders/fr/1byq_zn551q9hcfd9_hhlv5h0000gn/T/ipykernel_43757/3536431425.py:6: PerformanceWarning: DataFrame is highly fragmented.  This is usually the result of calling `frame.insert` many times, which has poor performance.  Consider joining all columns at once using pd.concat(axis=1) instead. To get a de-fragmented frame, use `newframe = frame.copy()`\n",
      "  df_dummy[col_name] = np.random.randint(1, 100, size=len(df))\n",
      "/var/folders/fr/1byq_zn551q9hcfd9_hhlv5h0000gn/T/ipykernel_43757/3536431425.py:6: PerformanceWarning: DataFrame is highly fragmented.  This is usually the result of calling `frame.insert` many times, which has poor performance.  Consider joining all columns at once using pd.concat(axis=1) instead. To get a de-fragmented frame, use `newframe = frame.copy()`\n",
      "  df_dummy[col_name] = np.random.randint(1, 100, size=len(df))\n",
      "/var/folders/fr/1byq_zn551q9hcfd9_hhlv5h0000gn/T/ipykernel_43757/3536431425.py:6: PerformanceWarning: DataFrame is highly fragmented.  This is usually the result of calling `frame.insert` many times, which has poor performance.  Consider joining all columns at once using pd.concat(axis=1) instead. To get a de-fragmented frame, use `newframe = frame.copy()`\n",
      "  df_dummy[col_name] = np.random.randint(1, 100, size=len(df))\n",
      "/var/folders/fr/1byq_zn551q9hcfd9_hhlv5h0000gn/T/ipykernel_43757/3536431425.py:6: PerformanceWarning: DataFrame is highly fragmented.  This is usually the result of calling `frame.insert` many times, which has poor performance.  Consider joining all columns at once using pd.concat(axis=1) instead. To get a de-fragmented frame, use `newframe = frame.copy()`\n",
      "  df_dummy[col_name] = np.random.randint(1, 100, size=len(df))\n",
      "/var/folders/fr/1byq_zn551q9hcfd9_hhlv5h0000gn/T/ipykernel_43757/3536431425.py:6: PerformanceWarning: DataFrame is highly fragmented.  This is usually the result of calling `frame.insert` many times, which has poor performance.  Consider joining all columns at once using pd.concat(axis=1) instead. To get a de-fragmented frame, use `newframe = frame.copy()`\n",
      "  df_dummy[col_name] = np.random.randint(1, 100, size=len(df))\n",
      "/var/folders/fr/1byq_zn551q9hcfd9_hhlv5h0000gn/T/ipykernel_43757/3536431425.py:6: PerformanceWarning: DataFrame is highly fragmented.  This is usually the result of calling `frame.insert` many times, which has poor performance.  Consider joining all columns at once using pd.concat(axis=1) instead. To get a de-fragmented frame, use `newframe = frame.copy()`\n",
      "  df_dummy[col_name] = np.random.randint(1, 100, size=len(df))\n",
      "/var/folders/fr/1byq_zn551q9hcfd9_hhlv5h0000gn/T/ipykernel_43757/3536431425.py:6: PerformanceWarning: DataFrame is highly fragmented.  This is usually the result of calling `frame.insert` many times, which has poor performance.  Consider joining all columns at once using pd.concat(axis=1) instead. To get a de-fragmented frame, use `newframe = frame.copy()`\n",
      "  df_dummy[col_name] = np.random.randint(1, 100, size=len(df))\n",
      "/var/folders/fr/1byq_zn551q9hcfd9_hhlv5h0000gn/T/ipykernel_43757/3536431425.py:6: PerformanceWarning: DataFrame is highly fragmented.  This is usually the result of calling `frame.insert` many times, which has poor performance.  Consider joining all columns at once using pd.concat(axis=1) instead. To get a de-fragmented frame, use `newframe = frame.copy()`\n",
      "  df_dummy[col_name] = np.random.randint(1, 100, size=len(df))\n",
      "/var/folders/fr/1byq_zn551q9hcfd9_hhlv5h0000gn/T/ipykernel_43757/3536431425.py:6: PerformanceWarning: DataFrame is highly fragmented.  This is usually the result of calling `frame.insert` many times, which has poor performance.  Consider joining all columns at once using pd.concat(axis=1) instead. To get a de-fragmented frame, use `newframe = frame.copy()`\n",
      "  df_dummy[col_name] = np.random.randint(1, 100, size=len(df))\n",
      "/var/folders/fr/1byq_zn551q9hcfd9_hhlv5h0000gn/T/ipykernel_43757/3536431425.py:6: PerformanceWarning: DataFrame is highly fragmented.  This is usually the result of calling `frame.insert` many times, which has poor performance.  Consider joining all columns at once using pd.concat(axis=1) instead. To get a de-fragmented frame, use `newframe = frame.copy()`\n",
      "  df_dummy[col_name] = np.random.randint(1, 100, size=len(df))\n",
      "/var/folders/fr/1byq_zn551q9hcfd9_hhlv5h0000gn/T/ipykernel_43757/3536431425.py:6: PerformanceWarning: DataFrame is highly fragmented.  This is usually the result of calling `frame.insert` many times, which has poor performance.  Consider joining all columns at once using pd.concat(axis=1) instead. To get a de-fragmented frame, use `newframe = frame.copy()`\n",
      "  df_dummy[col_name] = np.random.randint(1, 100, size=len(df))\n",
      "/var/folders/fr/1byq_zn551q9hcfd9_hhlv5h0000gn/T/ipykernel_43757/3536431425.py:6: PerformanceWarning: DataFrame is highly fragmented.  This is usually the result of calling `frame.insert` many times, which has poor performance.  Consider joining all columns at once using pd.concat(axis=1) instead. To get a de-fragmented frame, use `newframe = frame.copy()`\n",
      "  df_dummy[col_name] = np.random.randint(1, 100, size=len(df))\n",
      "/var/folders/fr/1byq_zn551q9hcfd9_hhlv5h0000gn/T/ipykernel_43757/3536431425.py:6: PerformanceWarning: DataFrame is highly fragmented.  This is usually the result of calling `frame.insert` many times, which has poor performance.  Consider joining all columns at once using pd.concat(axis=1) instead. To get a de-fragmented frame, use `newframe = frame.copy()`\n",
      "  df_dummy[col_name] = np.random.randint(1, 100, size=len(df))\n",
      "/var/folders/fr/1byq_zn551q9hcfd9_hhlv5h0000gn/T/ipykernel_43757/3536431425.py:6: PerformanceWarning: DataFrame is highly fragmented.  This is usually the result of calling `frame.insert` many times, which has poor performance.  Consider joining all columns at once using pd.concat(axis=1) instead. To get a de-fragmented frame, use `newframe = frame.copy()`\n",
      "  df_dummy[col_name] = np.random.randint(1, 100, size=len(df))\n",
      "/var/folders/fr/1byq_zn551q9hcfd9_hhlv5h0000gn/T/ipykernel_43757/3536431425.py:6: PerformanceWarning: DataFrame is highly fragmented.  This is usually the result of calling `frame.insert` many times, which has poor performance.  Consider joining all columns at once using pd.concat(axis=1) instead. To get a de-fragmented frame, use `newframe = frame.copy()`\n",
      "  df_dummy[col_name] = np.random.randint(1, 100, size=len(df))\n",
      "/var/folders/fr/1byq_zn551q9hcfd9_hhlv5h0000gn/T/ipykernel_43757/3536431425.py:6: PerformanceWarning: DataFrame is highly fragmented.  This is usually the result of calling `frame.insert` many times, which has poor performance.  Consider joining all columns at once using pd.concat(axis=1) instead. To get a de-fragmented frame, use `newframe = frame.copy()`\n",
      "  df_dummy[col_name] = np.random.randint(1, 100, size=len(df))\n",
      "/var/folders/fr/1byq_zn551q9hcfd9_hhlv5h0000gn/T/ipykernel_43757/3536431425.py:6: PerformanceWarning: DataFrame is highly fragmented.  This is usually the result of calling `frame.insert` many times, which has poor performance.  Consider joining all columns at once using pd.concat(axis=1) instead. To get a de-fragmented frame, use `newframe = frame.copy()`\n",
      "  df_dummy[col_name] = np.random.randint(1, 100, size=len(df))\n",
      "/var/folders/fr/1byq_zn551q9hcfd9_hhlv5h0000gn/T/ipykernel_43757/3536431425.py:6: PerformanceWarning: DataFrame is highly fragmented.  This is usually the result of calling `frame.insert` many times, which has poor performance.  Consider joining all columns at once using pd.concat(axis=1) instead. To get a de-fragmented frame, use `newframe = frame.copy()`\n",
      "  df_dummy[col_name] = np.random.randint(1, 100, size=len(df))\n",
      "/var/folders/fr/1byq_zn551q9hcfd9_hhlv5h0000gn/T/ipykernel_43757/3536431425.py:6: PerformanceWarning: DataFrame is highly fragmented.  This is usually the result of calling `frame.insert` many times, which has poor performance.  Consider joining all columns at once using pd.concat(axis=1) instead. To get a de-fragmented frame, use `newframe = frame.copy()`\n",
      "  df_dummy[col_name] = np.random.randint(1, 100, size=len(df))\n",
      "/var/folders/fr/1byq_zn551q9hcfd9_hhlv5h0000gn/T/ipykernel_43757/3536431425.py:6: PerformanceWarning: DataFrame is highly fragmented.  This is usually the result of calling `frame.insert` many times, which has poor performance.  Consider joining all columns at once using pd.concat(axis=1) instead. To get a de-fragmented frame, use `newframe = frame.copy()`\n",
      "  df_dummy[col_name] = np.random.randint(1, 100, size=len(df))\n",
      "/var/folders/fr/1byq_zn551q9hcfd9_hhlv5h0000gn/T/ipykernel_43757/3536431425.py:6: PerformanceWarning: DataFrame is highly fragmented.  This is usually the result of calling `frame.insert` many times, which has poor performance.  Consider joining all columns at once using pd.concat(axis=1) instead. To get a de-fragmented frame, use `newframe = frame.copy()`\n",
      "  df_dummy[col_name] = np.random.randint(1, 100, size=len(df))\n",
      "/var/folders/fr/1byq_zn551q9hcfd9_hhlv5h0000gn/T/ipykernel_43757/3536431425.py:6: PerformanceWarning: DataFrame is highly fragmented.  This is usually the result of calling `frame.insert` many times, which has poor performance.  Consider joining all columns at once using pd.concat(axis=1) instead. To get a de-fragmented frame, use `newframe = frame.copy()`\n",
      "  df_dummy[col_name] = np.random.randint(1, 100, size=len(df))\n",
      "/var/folders/fr/1byq_zn551q9hcfd9_hhlv5h0000gn/T/ipykernel_43757/3536431425.py:6: PerformanceWarning: DataFrame is highly fragmented.  This is usually the result of calling `frame.insert` many times, which has poor performance.  Consider joining all columns at once using pd.concat(axis=1) instead. To get a de-fragmented frame, use `newframe = frame.copy()`\n",
      "  df_dummy[col_name] = np.random.randint(1, 100, size=len(df))\n",
      "/var/folders/fr/1byq_zn551q9hcfd9_hhlv5h0000gn/T/ipykernel_43757/3536431425.py:6: PerformanceWarning: DataFrame is highly fragmented.  This is usually the result of calling `frame.insert` many times, which has poor performance.  Consider joining all columns at once using pd.concat(axis=1) instead. To get a de-fragmented frame, use `newframe = frame.copy()`\n",
      "  df_dummy[col_name] = np.random.randint(1, 100, size=len(df))\n",
      "/var/folders/fr/1byq_zn551q9hcfd9_hhlv5h0000gn/T/ipykernel_43757/3536431425.py:6: PerformanceWarning: DataFrame is highly fragmented.  This is usually the result of calling `frame.insert` many times, which has poor performance.  Consider joining all columns at once using pd.concat(axis=1) instead. To get a de-fragmented frame, use `newframe = frame.copy()`\n",
      "  df_dummy[col_name] = np.random.randint(1, 100, size=len(df))\n",
      "/var/folders/fr/1byq_zn551q9hcfd9_hhlv5h0000gn/T/ipykernel_43757/3536431425.py:6: PerformanceWarning: DataFrame is highly fragmented.  This is usually the result of calling `frame.insert` many times, which has poor performance.  Consider joining all columns at once using pd.concat(axis=1) instead. To get a de-fragmented frame, use `newframe = frame.copy()`\n",
      "  df_dummy[col_name] = np.random.randint(1, 100, size=len(df))\n",
      "/var/folders/fr/1byq_zn551q9hcfd9_hhlv5h0000gn/T/ipykernel_43757/3536431425.py:6: PerformanceWarning: DataFrame is highly fragmented.  This is usually the result of calling `frame.insert` many times, which has poor performance.  Consider joining all columns at once using pd.concat(axis=1) instead. To get a de-fragmented frame, use `newframe = frame.copy()`\n",
      "  df_dummy[col_name] = np.random.randint(1, 100, size=len(df))\n",
      "/var/folders/fr/1byq_zn551q9hcfd9_hhlv5h0000gn/T/ipykernel_43757/3536431425.py:6: PerformanceWarning: DataFrame is highly fragmented.  This is usually the result of calling `frame.insert` many times, which has poor performance.  Consider joining all columns at once using pd.concat(axis=1) instead. To get a de-fragmented frame, use `newframe = frame.copy()`\n",
      "  df_dummy[col_name] = np.random.randint(1, 100, size=len(df))\n",
      "/var/folders/fr/1byq_zn551q9hcfd9_hhlv5h0000gn/T/ipykernel_43757/3536431425.py:6: PerformanceWarning: DataFrame is highly fragmented.  This is usually the result of calling `frame.insert` many times, which has poor performance.  Consider joining all columns at once using pd.concat(axis=1) instead. To get a de-fragmented frame, use `newframe = frame.copy()`\n",
      "  df_dummy[col_name] = np.random.randint(1, 100, size=len(df))\n",
      "/var/folders/fr/1byq_zn551q9hcfd9_hhlv5h0000gn/T/ipykernel_43757/3536431425.py:6: PerformanceWarning: DataFrame is highly fragmented.  This is usually the result of calling `frame.insert` many times, which has poor performance.  Consider joining all columns at once using pd.concat(axis=1) instead. To get a de-fragmented frame, use `newframe = frame.copy()`\n",
      "  df_dummy[col_name] = np.random.randint(1, 100, size=len(df))\n"
     ]
    },
    {
     "name": "stdout",
     "output_type": "stream",
     "text": [
      "<class 'pandas.core.frame.DataFrame'>\n",
      "RangeIndex: 201 entries, 0 to 200\n",
      "Columns: 166 entries, symboling to Random_150\n",
      "dtypes: float64(10), int64(156)\n",
      "memory usage: 260.8 KB\n"
     ]
    }
   ],
   "source": [
    "df_dummy = df.copy()\n",
    "\n",
    "# Adicionando 150 colunas aleatórias no DF original (gerar um overfit)\n",
    "for i in range(150):\n",
    "    col_name = 'Random_' + str(i+1)\n",
    "    df_dummy[col_name] = np.random.randint(1, 100, size=len(df))\n",
    "\n",
    "df_dummy.drop(['fuel-type', 'aspiration', 'body-style', 'drive-wheels','make','num-of-doors',\n",
    "               'engine-location', 'engine-type', 'num-of-cylinders', 'fuel-system'], axis =1, inplace = True)\n",
    "df_dummy.info()"
   ]
  },
  {
   "cell_type": "markdown",
   "metadata": {},
   "source": [
    "## CrossValidation"
   ]
  },
  {
   "cell_type": "code",
   "execution_count": 62,
   "metadata": {},
   "outputs": [],
   "source": [
    "# Original Data\n",
    "X = df_dummy.drop(['price'], axis = 1)\n",
    "Y = df_dummy['price']\n",
    "\n",
    "# Separate features and target variable\n",
    "X = df_dummy.drop(columns=['price'])\n",
    "y = df_dummy['price']\n",
    "\n",
    "# Initialize the KFold object with 10 folds\n",
    "kf = KFold(n_splits=10, shuffle=True, random_state=42)\n"
   ]
  },
  {
   "cell_type": "markdown",
   "metadata": {},
   "source": [
    "## Avalia o modelo nas variáveis de treino e teste"
   ]
  },
  {
   "cell_type": "code",
   "execution_count": 63,
   "metadata": {},
   "outputs": [
    {
     "name": "stdout",
     "output_type": "stream",
     "text": [
      "Average MSE : 173582499.893162\n",
      "Average MAE : 10588.767439491236\n",
      "Average MAPE: 0.8358904354287613\n",
      "Average R2  : -4.637995454346612\n",
      "\n",
      "Average R2 (treino) : 0.9845856858126651\n"
     ]
    }
   ],
   "source": [
    "# Initialize lists to store the MSE for each fold\n",
    "mse_scores = []\n",
    "mae_scores = []\n",
    "mape_scores = []\n",
    "r2_scores = []\n",
    "r2_scores_treino = []\n",
    "\n",
    "# Iterate over each fold\n",
    "for train_index, test_index in kf.split(X):\n",
    "    # Split data into train and test sets for this fold\n",
    "    X_train, X_test = X.iloc[train_index], X.iloc[test_index]\n",
    "    y_train, y_test = Y.iloc[train_index], Y.iloc[test_index]\n",
    "    \n",
    "    # Train a linear regression model\n",
    "    lm = LinearRegression()\n",
    "    lm.fit(X_train, y_train)\n",
    "    \n",
    "    # Predict on the test set\n",
    "    y_pred = lm.predict(X_test)\n",
    "    \n",
    "    # Calculate Mean Squared Error for this fold\n",
    "    mse = mean_squared_error(y_test, y_pred)\n",
    "    mae = mean_absolute_error(y_test, y_pred)\n",
    "    mape= mae/y_test.mean()\n",
    "    \n",
    "    mse_scores.append(mse)\n",
    "    mae_scores.append(mae)\n",
    "    mape_scores.append(mape)\n",
    "    r2_scores.append(r2_score(y_test,y_pred))\n",
    "    r2_scores_treino.append(r2_score(y_train,lm.predict(X_train)))\n",
    "\n",
    "# Calculate the average MSE across all folds\n",
    "print(\"Average MSE :\", np.mean(mse_scores))\n",
    "print(\"Average MAE :\", np.mean(mae_scores))\n",
    "print(\"Average MAPE:\", np.mean(mape_scores))\n",
    "print(\"Average R2  :\", np.mean(r2_scores))\n",
    "\n",
    "## Esta métrica aceita valores negativos (ver documentação)\n",
    "print(\"\\nAverage R2 (treino) :\", np.mean(r2_scores_treino))"
   ]
  },
  {
   "cell_type": "code",
   "execution_count": 64,
   "metadata": {},
   "outputs": [
    {
     "name": "stdout",
     "output_type": "stream",
     "text": [
      "[-0.16863352148678623, -2.0302801336609972, -6.863629861448505, -8.026044221474596, -3.4543253410335106, -0.16539161160198668, -13.718689297766915, -1.1089208496830412, -10.582846536049605, -0.2611931692601748]\n"
     ]
    }
   ],
   "source": [
    "print(r2_scores)"
   ]
  },
  {
   "cell_type": "markdown",
   "metadata": {},
   "source": [
    "## Referências:\n",
    "\n",
    "* Documentação da biblioteca <a href=\"https://pandas.pydata.org/docs/\">Pandas</a>\n",
    "* Documentação do <a href=\"https://scikit-learn.org/stable/modules/generated/sklearn.metrics.r2_score.html#sklearn.metrics.r2_score/\">R2</a>\n"
   ]
  },
  {
   "cell_type": "markdown",
   "metadata": {},
   "source": [
    "## Autores\n",
    "\n",
    "<a href=\"https://www.linkedin.com/in/eduardopecora/\" target=\"_blank\">Eduardo Pecora</a>\n",
    "\n",
    "## Log de modificações\n",
    "\n",
    "| Data | Versão | Modificado por | Descrição |\n",
    "| -----------| ------- | ---------- | ---------------------------------- |\n",
    "| 24-04-2024       | 1.0     | Eduardo Pecora    | Inicial               |"
   ]
  }
 ],
 "metadata": {
  "kernelspec": {
   "display_name": "Python 3 (ipykernel)",
   "language": "python",
   "name": "python3"
  },
  "language_info": {
   "codemirror_mode": {
    "name": "ipython",
    "version": 3
   },
   "file_extension": ".py",
   "mimetype": "text/x-python",
   "name": "python",
   "nbconvert_exporter": "python",
   "pygments_lexer": "ipython3",
   "version": "3.10.0"
  },
  "vscode": {
   "interpreter": {
    "hash": "cf92aa13fedf815d5c8dd192b8d835913fde3e8bc926b2a0ad6cc74ef2ba3ca2"
   }
  }
 },
 "nbformat": 4,
 "nbformat_minor": 4
}
