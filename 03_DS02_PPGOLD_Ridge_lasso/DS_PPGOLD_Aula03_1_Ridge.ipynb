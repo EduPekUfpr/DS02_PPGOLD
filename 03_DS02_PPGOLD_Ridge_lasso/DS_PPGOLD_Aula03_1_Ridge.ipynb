{
 "cells": [
  {
   "cell_type": "markdown",
   "metadata": {
    "id": "4uytsKqPbA6e"
   },
   "source": [
    "<p style =\"text-align:center\">\n",
    "    <img src=\"http://epecora.com.br/DataFiles/PPGOLD_PPGMNE.png\" width=\"700\" alt=\"PPGOLD Data Science: INTRO\"  />\n",
    "</p>\n",
    "\n",
    "# Data Science 2 - Aula 03\n",
    "## Prof. Eduardo Pécora, Ph.D."
   ]
  },
  {
   "cell_type": "markdown",
   "metadata": {
    "id": "wZHlaPt5bA6j"
   },
   "source": [
    "# Ridge Regression\n",
    "Tempo estimado: **30** minutos"
   ]
  },
  {
   "cell_type": "markdown",
   "metadata": {
    "id": "aIv8SHgDbA6k"
   },
   "source": [
    "## Objetivos"
   ]
  },
  {
   "cell_type": "markdown",
   "metadata": {
    "id": "_TZSxUNobA6l"
   },
   "source": [
    "Após completar esta aula, você será capaz de:\n",
    "\n",
    "* Calcular o erro R^2\n",
    "* Calcular o MAD,MSE e MSRE"
   ]
  },
  {
   "cell_type": "markdown",
   "metadata": {
    "id": "Bfvj6cesbA6l"
   },
   "source": [
    "## Bibliotecas"
   ]
  },
  {
   "cell_type": "code",
   "execution_count": 20,
   "metadata": {
    "id": "bHX5xZdSbA6m"
   },
   "outputs": [],
   "source": [
    "# importando a biblioteca pandas para manipulação de dados\n",
    "import pandas as pd\n",
    "\n",
    "# Iportando numpy para criar, manipular e operar em arrays multidimensionais, bem como para realizar operações matemáticas avançadas.\n",
    "import numpy as np\n",
    "\n",
    "# Importando a biblioteca math que fornece funções matemáticas básicas\n",
    "import math \n",
    "\n",
    "# importando as bibliotecas do matplotlib para gerar gráficos\n",
    "import matplotlib as mpl\n",
    "import matplotlib.pyplot as plt\n",
    "\n",
    "# Importando biblioteca do seaborn para gerar gráficos mais atraentes e informativos\n",
    "import seaborn as sns\n",
    "\n",
    "# Importando a classe LinearRegression do sklearn \n",
    "# Essa classe implementa uma versão da regressão linear simples ou múltipla\n",
    "# Usado para modelar a relação entre uma variável dependente contínua e uma ou mais variáveis independentes.\n",
    "from sklearn.linear_model import LinearRegression, Ridge, Lasso\n",
    "from sklearn.metrics import mean_absolute_error, mean_squared_error\n",
    "\n",
    "# Usado para exibir os gráficos gerados pela biblioteca Matplotlib diretamente no notebook, sem precisar abrir uma janela externa.\n",
    "%matplotlib inline"
   ]
  },
  {
   "cell_type": "markdown",
   "metadata": {
    "id": "UnTVdPcHbA6o"
   },
   "source": [
    "## Obtendo dados"
   ]
  },
  {
   "cell_type": "code",
   "execution_count": 21,
   "metadata": {
    "id": "u2W7bkP-bA6o"
   },
   "outputs": [],
   "source": [
    "# O objeto ainda está vazio. \n",
    "caminho = \"\" \n",
    "\n",
    "# Caminho do arquivo csv\n",
    "caminho = \"https://raw.githubusercontent.com/EduPekUfpr/DS02_PPGOLD/main/Data/MeuAutoLimpo.csv\" \n",
    "\n",
    "#Obtendo arquivo e passando-o para um dataframe\n",
    "df = pd.read_csv(caminho)\n",
    "\n",
    "# drop as colunas não numéricas\n",
    "string_cols = ['make', 'fuel-type', 'aspiration', 'num-of-doors', 'body-style',\n",
    "            'drive-wheels', 'engine-location','engine-type', 'num-of-cylinders', 'fuel-system']\n",
    "df_linear_multipla = df.drop(string_cols, axis=1)"
   ]
  },
  {
   "cell_type": "code",
   "execution_count": 22,
   "metadata": {
    "colab": {
     "base_uri": "https://localhost:8080/"
    },
    "executionInfo": {
     "elapsed": 11,
     "status": "ok",
     "timestamp": 1680735469056,
     "user": {
      "displayName": "Hesau Hugo",
      "userId": "00835987297811796714"
     },
     "user_tz": 180
    },
    "id": "QS7achwEbA6t",
    "outputId": "488f3ffc-2152-4e76-f9ae-43950739e2e3"
   },
   "outputs": [
    {
     "name": "stdout",
     "output_type": "stream",
     "text": [
      "Shape =  (201, 9)\n",
      "SCORE: 0.7421\n",
      "Shape =  (201, 19)\n",
      "SCORE: 0.7544\n"
     ]
    }
   ],
   "source": [
    "lm = LinearRegression()\n",
    "\n",
    "# Selecionar as variáveis independentes\n",
    "drop_cols = [\"price\", 'normalized-losses', \"symboling\", \"highway-mpg\", \n",
    "             \"city-mpg\",\"engine-size\",\"horsepower\"]\n",
    "X = df_linear_multipla.drop(drop_cols, axis = 1)\n",
    "Y = df_linear_multipla['price']\n",
    "print(\"Shape = \",X.shape)\n",
    "\n",
    "# Carregando o modelo\n",
    "lm.fit(X, Y)\n",
    "\n",
    "# Exibindo o R^2\n",
    "R2=lm.score(X,Y)\n",
    "\n",
    "print(\"SCORE: %.4f\" % R2)\n",
    "\n",
    "# Adicionando XX colunas aleatórias no DF original\n",
    "for i in range(10):\n",
    "    col_name = 'Random_' + str(i+1)\n",
    "    df_linear_multipla[col_name] = np.random.randint(1, 100, size=len(df))\n",
    "df.head()\n",
    "\n",
    "# Criando as novas variáveis\n",
    "X = df_linear_multipla.drop(drop_cols, axis = 1)\n",
    "Y = df_linear_multipla['price']\n",
    "print(\"Shape = \",X.shape)\n",
    "\n",
    "# Carregando o modelo\n",
    "lm.fit(X, Y)\n",
    "\n",
    "# Exibindo o R^2\n",
    "R2=lm.score(X,Y)\n",
    "\n",
    "print(\"SCORE: %.4f\" % R2)"
   ]
  },
  {
   "cell_type": "markdown",
   "metadata": {
    "id": "0ZFC_JBCbA6v"
   },
   "source": [
    "### Cálculo dos erros"
   ]
  },
  {
   "cell_type": "code",
   "execution_count": 23,
   "metadata": {},
   "outputs": [
    {
     "name": "stdout",
     "output_type": "stream",
     "text": [
      "LM\n",
      " Mean Squared Error: 34843421.441388376\n",
      "SCORE: 0.6771\n",
      "Melhor Alpha R2:  1.2024048096192383\n",
      "Melhor R2      :  0.6772018023851729\n"
     ]
    },
    {
     "name": "stderr",
     "output_type": "stream",
     "text": [
      "/opt/anaconda3/envs/ppgold/lib/python3.12/site-packages/seaborn/_oldcore.py:1119: FutureWarning: use_inf_as_na option is deprecated and will be removed in a future version. Convert inf values to NaN before operating instead.\n",
      "  with pd.option_context('mode.use_inf_as_na', True):\n",
      "/opt/anaconda3/envs/ppgold/lib/python3.12/site-packages/seaborn/_oldcore.py:1119: FutureWarning: use_inf_as_na option is deprecated and will be removed in a future version. Convert inf values to NaN before operating instead.\n",
      "  with pd.option_context('mode.use_inf_as_na', True):\n"
     ]
    },
    {
     "data": {
      "image/png": "[encoded data removed]",
      "text/plain": [
       "<Figure size 640x480 with 1 Axes>"
      ]
     },
     "metadata": {},
     "output_type": "display_data"
    },
    {
     "name": "stdout",
     "output_type": "stream",
     "text": [
      "Melhor Alpha MSE:  1.2024048096192383\n",
      "Melhor MSE      :  34834208.10308183\n"
     ]
    },
    {
     "name": "stderr",
     "output_type": "stream",
     "text": [
      "/opt/anaconda3/envs/ppgold/lib/python3.12/site-packages/seaborn/_oldcore.py:1119: FutureWarning: use_inf_as_na option is deprecated and will be removed in a future version. Convert inf values to NaN before operating instead.\n",
      "  with pd.option_context('mode.use_inf_as_na', True):\n",
      "/opt/anaconda3/envs/ppgold/lib/python3.12/site-packages/seaborn/_oldcore.py:1119: FutureWarning: use_inf_as_na option is deprecated and will be removed in a future version. Convert inf values to NaN before operating instead.\n",
      "  with pd.option_context('mode.use_inf_as_na', True):\n"
     ]
    },
    {
     "data": {
      "image/png": "[encoded data removed]",
      "text/plain": [
       "<Figure size 640x480 with 1 Axes>"
      ]
     },
     "metadata": {},
     "output_type": "display_data"
    }
   ],
   "source": [
    "from sklearn.model_selection import train_test_split\n",
    "from sklearn.linear_model import Ridge\n",
    "from sklearn.metrics import mean_squared_error\n",
    "from sklearn.preprocessing import StandardScaler\n",
    "\n",
    "import numpy as np\n",
    "\n",
    "X = df_linear_multipla.drop(drop_cols, axis = 1)\n",
    "Y = df_linear_multipla['price']\n",
    "\n",
    "#print(X.head())\n",
    "# Split the data into training and testing sets\n",
    "X_train, X_test, y_train, y_test = train_test_split(X, Y, test_size=0.25, random_state=42)\n",
    "\n",
    "# Standardize the features\n",
    "#scaler = StandardScaler()\n",
    "#X_train_scaled = scaler.fit_transform(X_train)\n",
    "#X_test_scaled = scaler.transform(X_test)\n",
    "\n",
    "X_train_scaled = X_train\n",
    "X_test_scaled  = X_test\n",
    "\n",
    "df_ridge = pd.DataFrame(columns=['Alpha', 'R2', 'MSE'])\n",
    "\n",
    "intervalo = np.linspace(0,10,500)\n",
    "\n",
    "# Train a Ridge regression model\n",
    "R2_best = 0\n",
    "Alpha_R2 = 0\n",
    "MSE_best = np.inf\n",
    "Alpha_MSE = 0\n",
    "for i in intervalo:\n",
    "    ridge = Ridge(alpha=i)  # alpha is the regularization strength\n",
    "    ridge.fit(X_train_scaled, y_train)\n",
    "\n",
    "    # Exibindo o R^2\n",
    "    R2=ridge.score(X_test_scaled,y_test)\n",
    "    #print(\"SCORE: %.4f\" % R2)\n",
    "\n",
    "    # Predict on the test set\n",
    "    y_pred_ridge = ridge.predict(X_test_scaled)\n",
    "\n",
    "    # Evaluate the model\n",
    "    mse = mean_squared_error(y_test, y_pred_ridge)\n",
    "    new_row = [i, R2, mse]\n",
    "    df_ridge.loc[len(df_ridge)] = new_row\n",
    "    if R2 > R2_best:\n",
    "        R2_best = R2\n",
    "        Alpha_R2 = i\n",
    "    if mse < MSE_best:\n",
    "        MSE_best = mse\n",
    "        Alpha_MSE = i\n",
    "    \n",
    "# Train a Linear regression model\n",
    "lm.fit(X_train_scaled, y_train)\n",
    "\n",
    "# Predict on the test set\n",
    "y_pred_lm = lm.predict(X_test_scaled)\n",
    "# Evaluate the model\n",
    "mse = mean_squared_error(y_test, y_pred_lm)\n",
    "print(\"LM\\n Mean Squared Error:\", mse)\n",
    "# Exibindo o R^2\n",
    "R2=lm.score(X_test_scaled,y_test)\n",
    "print(\"SCORE: %.4f\" % R2)\n",
    "\n",
    "print(\"Melhor Alpha R2: \", Alpha_R2)\n",
    "print(\"Melhor R2      : \", R2_best)\n",
    "sns.lineplot(data=df_ridge, x=\"Alpha\", y=\"R2\")\n",
    "plt.show()\n",
    "\n",
    "print(\"Melhor Alpha MSE: \", Alpha_MSE)\n",
    "print(\"Melhor MSE      : \", MSE_best)\n",
    "sns.lineplot(data=df_ridge, x=\"Alpha\", y=\"MSE\")\n",
    "plt.show()"
   ]
  },
  {
   "cell_type": "markdown",
   "metadata": {},
   "source": [
    "## Autores\n",
    "\n",
    "<a href=\"https://www.linkedin.com/in/eduardopecora/\" target=\"_blank\">Eduardo Pecora</a>\n",
    "\n",
    "## Log de modificações\n",
    "\n",
    "| Data | Versão | Modificado por | Descrição |\n",
    "| -----------| ------- | ---------- | ---------------------------------- |\n",
    "| 22-04-2024       | 1.0   | Eduardo Pecora    | Estrutura Aula        |\n",
    "\n",
    "## <h3 align=\"center\"> (c) Eduardo Pécora/ UFPR 2024. All rights reserved. <h3/>\n"
   ]
  },
  {
   "cell_type": "code",
   "execution_count": null,
   "metadata": {},
   "outputs": [],
   "source": []
  }
 ],
 "metadata": {
  "colab": {
   "provenance": []
  },
  "kernelspec": {
   "display_name": "Python 3 (ipykernel)",
   "language": "python",
   "name": "python3"
  },
  "language_info": {
   "codemirror_mode": {
    "name": "ipython",
    "version": 3
   },
   "file_extension": ".py",
   "mimetype": "text/x-python",
   "name": "python",
   "nbconvert_exporter": "python",
   "pygments_lexer": "ipython3",
   "version": "3.12.2"
  },
  "vscode": {
   "interpreter": {
    "hash": "cf92aa13fedf815d5c8dd192b8d835913fde3e8bc926b2a0ad6cc74ef2ba3ca2"
   }
  }
 },
 "nbformat": 4,
 "nbformat_minor": 4
}
