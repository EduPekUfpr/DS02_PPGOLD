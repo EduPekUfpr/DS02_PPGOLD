{
 "cells": [
  {
   "cell_type": "code",
   "execution_count": 15,
   "id": "3b81c475-6c03-4e0a-b6e8-45d0ec69051c",
   "metadata": {},
   "outputs": [
    {
     "name": "stdout",
     "output_type": "stream",
     "text": [
      "    mpg  cylinders  displacement  horsepower  weight  acceleration  \\\n",
      "0  18.0          8         307.0       130.0    3504          12.0   \n",
      "1  15.0          8         350.0       165.0    3693          11.5   \n",
      "2  18.0          8         318.0       150.0    3436          11.0   \n",
      "3  16.0          8         304.0       150.0    3433          12.0   \n",
      "4  17.0          8         302.0       140.0    3449          10.5   \n",
      "\n",
      "   model_year origin                       name  \n",
      "0          70    usa  chevrolet chevelle malibu  \n",
      "1          70    usa          buick skylark 320  \n",
      "2          70    usa         plymouth satellite  \n",
      "3          70    usa              amc rebel sst  \n",
      "4          70    usa                ford torino  \n",
      "        cylinders  displacement  horsepower       weight  acceleration  \\\n",
      "count  392.000000    392.000000  392.000000   392.000000    392.000000   \n",
      "mean     5.471939    194.411990  104.469388  2977.584184     15.541327   \n",
      "std      1.705783    104.644004   38.491160   849.402560      2.758864   \n",
      "min      3.000000     68.000000   46.000000  1613.000000      8.000000   \n",
      "25%      4.000000    105.000000   75.000000  2225.250000     13.775000   \n",
      "50%      4.000000    151.000000   93.500000  2803.500000     15.500000   \n",
      "75%      8.000000    275.750000  126.000000  3614.750000     17.025000   \n",
      "max      8.000000    455.000000  230.000000  5140.000000     24.800000   \n",
      "\n",
      "       model_year  \n",
      "count  392.000000  \n",
      "mean    75.979592  \n",
      "std      3.683737  \n",
      "min     70.000000  \n",
      "25%     73.000000  \n",
      "50%     76.000000  \n",
      "75%     79.000000  \n",
      "max     82.000000  \n",
      "Score:  0.7923478558998387\n",
      "[-0.         -0.00113399 -0.00502399 -0.00647404  0.03029599  0.75024613]\n",
      "Selected feature names: Index(['displacement', 'horsepower', 'weight', 'acceleration', 'model_year'], dtype='object')\n",
      "Deleted  feature names: Index(['cylinders'], dtype='object')\n"
     ]
    }
   ],
   "source": [
    "import seaborn as sns\n",
    "import pandas as pd\n",
    "from sklearn.model_selection import train_test_split\n",
    "from sklearn.preprocessing import StandardScaler\n",
    "from sklearn.linear_model import Lasso\n",
    "\n",
    "# Load the dataset from seaborn\n",
    "df = sns.load_dataset('mpg')\n",
    "df.dropna(inplace=True)\n",
    "\n",
    "# Display the first few rows of the dataset\n",
    "print(df.head())\n",
    "\n",
    "# Split the data into features and target variable\n",
    "X = df.drop(columns=['mpg','name','origin'])  # Features\n",
    "y = df['mpg']  # Target variable\n",
    "\n",
    "print(X.describe())\n",
    "# Split the data into training and testing sets\n",
    "X_train, X_test, y_train, y_test = train_test_split(X, y, test_size=0.2, random_state=42)\n",
    "\n",
    "# Standardize the features\n",
    "#scaler = StandardScaler()\n",
    "#X_train_scaled = scaler.fit_transform(X_train)\n",
    "#X_test_scaled = scaler.transform(X_test)\n",
    "\n",
    "X_train_scaled = X_train\n",
    "X_test_scaled = X_test\n",
    "\n",
    "# Fit Lasso regression model\n",
    "lasso_model = Lasso(alpha=0.1)  # Set an appropriate alpha value\n",
    "lasso_model.fit(X_train_scaled, y_train)\n",
    "\n",
    "# Score\n",
    "print(\"Score: \",lasso_model.score(X_test_scaled, y_test))\n",
    "\n",
    "# Identify important features\n",
    "selected_features = X.columns[lasso_model.coef_ != 0]\n",
    "deleted_features = X.columns[lasso_model.coef_ == 0]\n",
    "\n",
    "# Print selected feature names\n",
    "print(lasso_model.coef_)\n",
    "print(\"Selected feature names:\", selected_features)\n",
    "print(\"Deleted  feature names:\", deleted_features)"
   ]
  },
  {
   "cell_type": "code",
   "execution_count": 16,
   "id": "47bf31bd-97d9-4c75-8a44-fea914e07ac5",
   "metadata": {},
   "outputs": [],
   "source": [
    "Score:  0.7923478558998387\n",
    "Score:  0.7923479687520376\n"
   ]
  },
  {
   "cell_type": "code",
   "execution_count": null,
   "id": "e1fe60b1-83ce-4974-b0a3-52fef6a3e710",
   "metadata": {},
   "outputs": [],
   "source": []
  }
 ],
 "metadata": {
  "kernelspec": {
   "display_name": "Python 3 (ipykernel)",
   "language": "python",
   "name": "python3"
  },
  "language_info": {
   "codemirror_mode": {
    "name": "ipython",
    "version": 3
   },
   "file_extension": ".py",
   "mimetype": "text/x-python",
   "name": "python",
   "nbconvert_exporter": "python",
   "pygments_lexer": "ipython3",
   "version": "3.10.0"
  }
 },
 "nbformat": 4,
 "nbformat_minor": 5
}
